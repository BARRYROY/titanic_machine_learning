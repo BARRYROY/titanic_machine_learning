{
 "cells": [
  {
   "cell_type": "code",
   "execution_count": 1,
   "id": "15a338eb-4d5a-4da0-9cdc-49a162215cfb",
   "metadata": {},
   "outputs": [],
   "source": [
    "import numpy as np\n",
    "import pandas as pd\n",
    "import matplotlib.pyplot as plt\n",
    "import seaborn as sns\n",
    "sns.set()\n",
    "import statsmodels.api as sm\n",
    "from sklearn.preprocessing import StandardScaler\n",
    "from sklearn.cluster import KMeans\n",
    "from sklearn.linear_model import LogisticRegression"
   ]
  },
  {
   "cell_type": "code",
   "execution_count": 2,
   "id": "fef7b02c-354a-4634-ac7a-6078c9e6622e",
   "metadata": {},
   "outputs": [
    {
     "data": {
      "text/html": [
       "<div>\n",
       "<style scoped>\n",
       "    .dataframe tbody tr th:only-of-type {\n",
       "        vertical-align: middle;\n",
       "    }\n",
       "\n",
       "    .dataframe tbody tr th {\n",
       "        vertical-align: top;\n",
       "    }\n",
       "\n",
       "    .dataframe thead th {\n",
       "        text-align: right;\n",
       "    }\n",
       "</style>\n",
       "<table border=\"1\" class=\"dataframe\">\n",
       "  <thead>\n",
       "    <tr style=\"text-align: right;\">\n",
       "      <th></th>\n",
       "      <th>PassengerId</th>\n",
       "      <th>Survived</th>\n",
       "      <th>Pclass</th>\n",
       "      <th>Name</th>\n",
       "      <th>Sex</th>\n",
       "      <th>Age</th>\n",
       "      <th>SibSp</th>\n",
       "      <th>Parch</th>\n",
       "      <th>Ticket</th>\n",
       "      <th>Fare</th>\n",
       "      <th>Cabin</th>\n",
       "      <th>Embarked</th>\n",
       "    </tr>\n",
       "  </thead>\n",
       "  <tbody>\n",
       "    <tr>\n",
       "      <th>0</th>\n",
       "      <td>1</td>\n",
       "      <td>0</td>\n",
       "      <td>3</td>\n",
       "      <td>Braund, Mr. Owen Harris</td>\n",
       "      <td>male</td>\n",
       "      <td>22.0</td>\n",
       "      <td>1</td>\n",
       "      <td>0</td>\n",
       "      <td>A/5 21171</td>\n",
       "      <td>7.2500</td>\n",
       "      <td>NaN</td>\n",
       "      <td>S</td>\n",
       "    </tr>\n",
       "    <tr>\n",
       "      <th>1</th>\n",
       "      <td>2</td>\n",
       "      <td>1</td>\n",
       "      <td>1</td>\n",
       "      <td>Cumings, Mrs. John Bradley (Florence Briggs Th...</td>\n",
       "      <td>female</td>\n",
       "      <td>38.0</td>\n",
       "      <td>1</td>\n",
       "      <td>0</td>\n",
       "      <td>PC 17599</td>\n",
       "      <td>71.2833</td>\n",
       "      <td>C85</td>\n",
       "      <td>C</td>\n",
       "    </tr>\n",
       "    <tr>\n",
       "      <th>2</th>\n",
       "      <td>3</td>\n",
       "      <td>1</td>\n",
       "      <td>3</td>\n",
       "      <td>Heikkinen, Miss. Laina</td>\n",
       "      <td>female</td>\n",
       "      <td>26.0</td>\n",
       "      <td>0</td>\n",
       "      <td>0</td>\n",
       "      <td>STON/O2. 3101282</td>\n",
       "      <td>7.9250</td>\n",
       "      <td>NaN</td>\n",
       "      <td>S</td>\n",
       "    </tr>\n",
       "    <tr>\n",
       "      <th>3</th>\n",
       "      <td>4</td>\n",
       "      <td>1</td>\n",
       "      <td>1</td>\n",
       "      <td>Futrelle, Mrs. Jacques Heath (Lily May Peel)</td>\n",
       "      <td>female</td>\n",
       "      <td>35.0</td>\n",
       "      <td>1</td>\n",
       "      <td>0</td>\n",
       "      <td>113803</td>\n",
       "      <td>53.1000</td>\n",
       "      <td>C123</td>\n",
       "      <td>S</td>\n",
       "    </tr>\n",
       "    <tr>\n",
       "      <th>4</th>\n",
       "      <td>5</td>\n",
       "      <td>0</td>\n",
       "      <td>3</td>\n",
       "      <td>Allen, Mr. William Henry</td>\n",
       "      <td>male</td>\n",
       "      <td>35.0</td>\n",
       "      <td>0</td>\n",
       "      <td>0</td>\n",
       "      <td>373450</td>\n",
       "      <td>8.0500</td>\n",
       "      <td>NaN</td>\n",
       "      <td>S</td>\n",
       "    </tr>\n",
       "  </tbody>\n",
       "</table>\n",
       "</div>"
      ],
      "text/plain": [
       "   PassengerId  Survived  Pclass  \\\n",
       "0            1         0       3   \n",
       "1            2         1       1   \n",
       "2            3         1       3   \n",
       "3            4         1       1   \n",
       "4            5         0       3   \n",
       "\n",
       "                                                Name     Sex   Age  SibSp  \\\n",
       "0                            Braund, Mr. Owen Harris    male  22.0      1   \n",
       "1  Cumings, Mrs. John Bradley (Florence Briggs Th...  female  38.0      1   \n",
       "2                             Heikkinen, Miss. Laina  female  26.0      0   \n",
       "3       Futrelle, Mrs. Jacques Heath (Lily May Peel)  female  35.0      1   \n",
       "4                           Allen, Mr. William Henry    male  35.0      0   \n",
       "\n",
       "   Parch            Ticket     Fare Cabin Embarked  \n",
       "0      0         A/5 21171   7.2500   NaN        S  \n",
       "1      0          PC 17599  71.2833   C85        C  \n",
       "2      0  STON/O2. 3101282   7.9250   NaN        S  \n",
       "3      0            113803  53.1000  C123        S  \n",
       "4      0            373450   8.0500   NaN        S  "
      ]
     },
     "execution_count": 2,
     "metadata": {},
     "output_type": "execute_result"
    }
   ],
   "source": [
    "raw_data = pd.read_csv('train.csv')\n",
    "raw_data.head()"
   ]
  },
  {
   "cell_type": "code",
   "execution_count": 3,
   "id": "da703ae4-396e-4695-9ccd-a174d8e9ab13",
   "metadata": {},
   "outputs": [
    {
     "data": {
      "text/html": [
       "<div>\n",
       "<style scoped>\n",
       "    .dataframe tbody tr th:only-of-type {\n",
       "        vertical-align: middle;\n",
       "    }\n",
       "\n",
       "    .dataframe tbody tr th {\n",
       "        vertical-align: top;\n",
       "    }\n",
       "\n",
       "    .dataframe thead th {\n",
       "        text-align: right;\n",
       "    }\n",
       "</style>\n",
       "<table border=\"1\" class=\"dataframe\">\n",
       "  <thead>\n",
       "    <tr style=\"text-align: right;\">\n",
       "      <th></th>\n",
       "      <th>PassengerId</th>\n",
       "      <th>Survived</th>\n",
       "      <th>Pclass</th>\n",
       "      <th>Age</th>\n",
       "      <th>SibSp</th>\n",
       "      <th>Parch</th>\n",
       "      <th>Fare</th>\n",
       "    </tr>\n",
       "  </thead>\n",
       "  <tbody>\n",
       "    <tr>\n",
       "      <th>count</th>\n",
       "      <td>891.000000</td>\n",
       "      <td>891.000000</td>\n",
       "      <td>891.000000</td>\n",
       "      <td>714.000000</td>\n",
       "      <td>891.000000</td>\n",
       "      <td>891.000000</td>\n",
       "      <td>891.000000</td>\n",
       "    </tr>\n",
       "    <tr>\n",
       "      <th>mean</th>\n",
       "      <td>446.000000</td>\n",
       "      <td>0.383838</td>\n",
       "      <td>2.308642</td>\n",
       "      <td>29.699118</td>\n",
       "      <td>0.523008</td>\n",
       "      <td>0.381594</td>\n",
       "      <td>32.204208</td>\n",
       "    </tr>\n",
       "    <tr>\n",
       "      <th>std</th>\n",
       "      <td>257.353842</td>\n",
       "      <td>0.486592</td>\n",
       "      <td>0.836071</td>\n",
       "      <td>14.526497</td>\n",
       "      <td>1.102743</td>\n",
       "      <td>0.806057</td>\n",
       "      <td>49.693429</td>\n",
       "    </tr>\n",
       "    <tr>\n",
       "      <th>min</th>\n",
       "      <td>1.000000</td>\n",
       "      <td>0.000000</td>\n",
       "      <td>1.000000</td>\n",
       "      <td>0.420000</td>\n",
       "      <td>0.000000</td>\n",
       "      <td>0.000000</td>\n",
       "      <td>0.000000</td>\n",
       "    </tr>\n",
       "    <tr>\n",
       "      <th>25%</th>\n",
       "      <td>223.500000</td>\n",
       "      <td>0.000000</td>\n",
       "      <td>2.000000</td>\n",
       "      <td>20.125000</td>\n",
       "      <td>0.000000</td>\n",
       "      <td>0.000000</td>\n",
       "      <td>7.910400</td>\n",
       "    </tr>\n",
       "    <tr>\n",
       "      <th>50%</th>\n",
       "      <td>446.000000</td>\n",
       "      <td>0.000000</td>\n",
       "      <td>3.000000</td>\n",
       "      <td>28.000000</td>\n",
       "      <td>0.000000</td>\n",
       "      <td>0.000000</td>\n",
       "      <td>14.454200</td>\n",
       "    </tr>\n",
       "    <tr>\n",
       "      <th>75%</th>\n",
       "      <td>668.500000</td>\n",
       "      <td>1.000000</td>\n",
       "      <td>3.000000</td>\n",
       "      <td>38.000000</td>\n",
       "      <td>1.000000</td>\n",
       "      <td>0.000000</td>\n",
       "      <td>31.000000</td>\n",
       "    </tr>\n",
       "    <tr>\n",
       "      <th>max</th>\n",
       "      <td>891.000000</td>\n",
       "      <td>1.000000</td>\n",
       "      <td>3.000000</td>\n",
       "      <td>80.000000</td>\n",
       "      <td>8.000000</td>\n",
       "      <td>6.000000</td>\n",
       "      <td>512.329200</td>\n",
       "    </tr>\n",
       "  </tbody>\n",
       "</table>\n",
       "</div>"
      ],
      "text/plain": [
       "       PassengerId    Survived      Pclass         Age       SibSp  \\\n",
       "count   891.000000  891.000000  891.000000  714.000000  891.000000   \n",
       "mean    446.000000    0.383838    2.308642   29.699118    0.523008   \n",
       "std     257.353842    0.486592    0.836071   14.526497    1.102743   \n",
       "min       1.000000    0.000000    1.000000    0.420000    0.000000   \n",
       "25%     223.500000    0.000000    2.000000   20.125000    0.000000   \n",
       "50%     446.000000    0.000000    3.000000   28.000000    0.000000   \n",
       "75%     668.500000    1.000000    3.000000   38.000000    1.000000   \n",
       "max     891.000000    1.000000    3.000000   80.000000    8.000000   \n",
       "\n",
       "            Parch        Fare  \n",
       "count  891.000000  891.000000  \n",
       "mean     0.381594   32.204208  \n",
       "std      0.806057   49.693429  \n",
       "min      0.000000    0.000000  \n",
       "25%      0.000000    7.910400  \n",
       "50%      0.000000   14.454200  \n",
       "75%      0.000000   31.000000  \n",
       "max      6.000000  512.329200  "
      ]
     },
     "execution_count": 3,
     "metadata": {},
     "output_type": "execute_result"
    }
   ],
   "source": [
    "raw_data.describe()"
   ]
  },
  {
   "cell_type": "code",
   "execution_count": 4,
   "id": "fbe5970c-19fd-4c6c-bd20-0faf08e78161",
   "metadata": {},
   "outputs": [
    {
     "data": {
      "text/plain": [
       "PassengerId      0\n",
       "Survived         0\n",
       "Pclass           0\n",
       "Name             0\n",
       "Sex              0\n",
       "Age            177\n",
       "SibSp            0\n",
       "Parch            0\n",
       "Ticket           0\n",
       "Fare             0\n",
       "Cabin          687\n",
       "Embarked         2\n",
       "dtype: int64"
      ]
     },
     "execution_count": 4,
     "metadata": {},
     "output_type": "execute_result"
    }
   ],
   "source": [
    " raw_data.isnull().sum()"
   ]
  },
  {
   "cell_type": "code",
   "execution_count": 5,
   "id": "da0d2558-436c-4714-bb14-864c87762a90",
   "metadata": {},
   "outputs": [
    {
     "data": {
      "text/html": [
       "<div>\n",
       "<style scoped>\n",
       "    .dataframe tbody tr th:only-of-type {\n",
       "        vertical-align: middle;\n",
       "    }\n",
       "\n",
       "    .dataframe tbody tr th {\n",
       "        vertical-align: top;\n",
       "    }\n",
       "\n",
       "    .dataframe thead th {\n",
       "        text-align: right;\n",
       "    }\n",
       "</style>\n",
       "<table border=\"1\" class=\"dataframe\">\n",
       "  <thead>\n",
       "    <tr style=\"text-align: right;\">\n",
       "      <th></th>\n",
       "      <th>Survived</th>\n",
       "      <th>Pclass</th>\n",
       "      <th>Sex</th>\n",
       "      <th>Age</th>\n",
       "      <th>SibSp</th>\n",
       "      <th>Parch</th>\n",
       "      <th>Ticket</th>\n",
       "      <th>Embarked</th>\n",
       "    </tr>\n",
       "  </thead>\n",
       "  <tbody>\n",
       "    <tr>\n",
       "      <th>0</th>\n",
       "      <td>0</td>\n",
       "      <td>3</td>\n",
       "      <td>male</td>\n",
       "      <td>22.0</td>\n",
       "      <td>1</td>\n",
       "      <td>0</td>\n",
       "      <td>A/5 21171</td>\n",
       "      <td>S</td>\n",
       "    </tr>\n",
       "    <tr>\n",
       "      <th>1</th>\n",
       "      <td>1</td>\n",
       "      <td>1</td>\n",
       "      <td>female</td>\n",
       "      <td>38.0</td>\n",
       "      <td>1</td>\n",
       "      <td>0</td>\n",
       "      <td>PC 17599</td>\n",
       "      <td>C</td>\n",
       "    </tr>\n",
       "    <tr>\n",
       "      <th>2</th>\n",
       "      <td>1</td>\n",
       "      <td>3</td>\n",
       "      <td>female</td>\n",
       "      <td>26.0</td>\n",
       "      <td>0</td>\n",
       "      <td>0</td>\n",
       "      <td>STON/O2. 3101282</td>\n",
       "      <td>S</td>\n",
       "    </tr>\n",
       "    <tr>\n",
       "      <th>3</th>\n",
       "      <td>1</td>\n",
       "      <td>1</td>\n",
       "      <td>female</td>\n",
       "      <td>35.0</td>\n",
       "      <td>1</td>\n",
       "      <td>0</td>\n",
       "      <td>113803</td>\n",
       "      <td>S</td>\n",
       "    </tr>\n",
       "    <tr>\n",
       "      <th>4</th>\n",
       "      <td>0</td>\n",
       "      <td>3</td>\n",
       "      <td>male</td>\n",
       "      <td>35.0</td>\n",
       "      <td>0</td>\n",
       "      <td>0</td>\n",
       "      <td>373450</td>\n",
       "      <td>S</td>\n",
       "    </tr>\n",
       "    <tr>\n",
       "      <th>...</th>\n",
       "      <td>...</td>\n",
       "      <td>...</td>\n",
       "      <td>...</td>\n",
       "      <td>...</td>\n",
       "      <td>...</td>\n",
       "      <td>...</td>\n",
       "      <td>...</td>\n",
       "      <td>...</td>\n",
       "    </tr>\n",
       "    <tr>\n",
       "      <th>886</th>\n",
       "      <td>0</td>\n",
       "      <td>2</td>\n",
       "      <td>male</td>\n",
       "      <td>27.0</td>\n",
       "      <td>0</td>\n",
       "      <td>0</td>\n",
       "      <td>211536</td>\n",
       "      <td>S</td>\n",
       "    </tr>\n",
       "    <tr>\n",
       "      <th>887</th>\n",
       "      <td>1</td>\n",
       "      <td>1</td>\n",
       "      <td>female</td>\n",
       "      <td>19.0</td>\n",
       "      <td>0</td>\n",
       "      <td>0</td>\n",
       "      <td>112053</td>\n",
       "      <td>S</td>\n",
       "    </tr>\n",
       "    <tr>\n",
       "      <th>888</th>\n",
       "      <td>0</td>\n",
       "      <td>3</td>\n",
       "      <td>female</td>\n",
       "      <td>NaN</td>\n",
       "      <td>1</td>\n",
       "      <td>2</td>\n",
       "      <td>W./C. 6607</td>\n",
       "      <td>S</td>\n",
       "    </tr>\n",
       "    <tr>\n",
       "      <th>889</th>\n",
       "      <td>1</td>\n",
       "      <td>1</td>\n",
       "      <td>male</td>\n",
       "      <td>26.0</td>\n",
       "      <td>0</td>\n",
       "      <td>0</td>\n",
       "      <td>111369</td>\n",
       "      <td>C</td>\n",
       "    </tr>\n",
       "    <tr>\n",
       "      <th>890</th>\n",
       "      <td>0</td>\n",
       "      <td>3</td>\n",
       "      <td>male</td>\n",
       "      <td>32.0</td>\n",
       "      <td>0</td>\n",
       "      <td>0</td>\n",
       "      <td>370376</td>\n",
       "      <td>Q</td>\n",
       "    </tr>\n",
       "  </tbody>\n",
       "</table>\n",
       "<p>891 rows × 8 columns</p>\n",
       "</div>"
      ],
      "text/plain": [
       "     Survived  Pclass     Sex   Age  SibSp  Parch            Ticket Embarked\n",
       "0           0       3    male  22.0      1      0         A/5 21171        S\n",
       "1           1       1  female  38.0      1      0          PC 17599        C\n",
       "2           1       3  female  26.0      0      0  STON/O2. 3101282        S\n",
       "3           1       1  female  35.0      1      0            113803        S\n",
       "4           0       3    male  35.0      0      0            373450        S\n",
       "..        ...     ...     ...   ...    ...    ...               ...      ...\n",
       "886         0       2    male  27.0      0      0            211536        S\n",
       "887         1       1  female  19.0      0      0            112053        S\n",
       "888         0       3  female   NaN      1      2        W./C. 6607        S\n",
       "889         1       1    male  26.0      0      0            111369        C\n",
       "890         0       3    male  32.0      0      0            370376        Q\n",
       "\n",
       "[891 rows x 8 columns]"
      ]
     },
     "execution_count": 5,
     "metadata": {},
     "output_type": "execute_result"
    }
   ],
   "source": [
    "raw_data = raw_data.drop(columns=['PassengerId', 'Name', 'Cabin', 'Fare'])\n",
    "raw_data"
   ]
  },
  {
   "cell_type": "code",
   "execution_count": 6,
   "id": "71452e85-6147-4f12-830f-595664ef1dd8",
   "metadata": {},
   "outputs": [],
   "source": [
    "raw_data['Sex'] = raw_data['Sex'].map({'male':1, 'female':0})\n",
    "raw_data['Embarked'] = raw_data['Embarked'].map({'S':0, 'C':1, 'Q':2})"
   ]
  },
  {
   "cell_type": "code",
   "execution_count": 7,
   "id": "85782432-b171-4852-9b19-d2b493a0d067",
   "metadata": {},
   "outputs": [],
   "source": [
    "raw_data['Ticket'] = pd.to_numeric(raw_data.iloc[:,-2], errors='ignore')"
   ]
  },
  {
   "cell_type": "code",
   "execution_count": 8,
   "id": "8e6d1390-6474-4529-840d-544fc22a207e",
   "metadata": {},
   "outputs": [
    {
     "data": {
      "image/png": "[encoded data removed]",
      "text/plain": [
       "<Figure size 432x288 with 1 Axes>"
      ]
     },
     "metadata": {},
     "output_type": "display_data"
    }
   ],
   "source": [
    "plt.scatter(raw_data['Ticket'], raw_data['Survived'])\n",
    "plt.show()"
   ]
  },
  {
   "cell_type": "code",
   "execution_count": 9,
   "id": "cae5815f-3299-47b6-b999-261e7fef2312",
   "metadata": {},
   "outputs": [
    {
     "data": {
      "text/html": [
       "<div>\n",
       "<style scoped>\n",
       "    .dataframe tbody tr th:only-of-type {\n",
       "        vertical-align: middle;\n",
       "    }\n",
       "\n",
       "    .dataframe tbody tr th {\n",
       "        vertical-align: top;\n",
       "    }\n",
       "\n",
       "    .dataframe thead th {\n",
       "        text-align: right;\n",
       "    }\n",
       "</style>\n",
       "<table border=\"1\" class=\"dataframe\">\n",
       "  <thead>\n",
       "    <tr style=\"text-align: right;\">\n",
       "      <th></th>\n",
       "      <th>Survived</th>\n",
       "      <th>Pclass</th>\n",
       "      <th>Sex</th>\n",
       "      <th>Age</th>\n",
       "      <th>SibSp</th>\n",
       "      <th>Parch</th>\n",
       "      <th>Ticket</th>\n",
       "      <th>Embarked</th>\n",
       "    </tr>\n",
       "  </thead>\n",
       "  <tbody>\n",
       "    <tr>\n",
       "      <th>0</th>\n",
       "      <td>0</td>\n",
       "      <td>3</td>\n",
       "      <td>1</td>\n",
       "      <td>22.0</td>\n",
       "      <td>1</td>\n",
       "      <td>0</td>\n",
       "      <td>A/5 21171</td>\n",
       "      <td>0.0</td>\n",
       "    </tr>\n",
       "    <tr>\n",
       "      <th>1</th>\n",
       "      <td>1</td>\n",
       "      <td>1</td>\n",
       "      <td>0</td>\n",
       "      <td>38.0</td>\n",
       "      <td>1</td>\n",
       "      <td>0</td>\n",
       "      <td>PC 17599</td>\n",
       "      <td>1.0</td>\n",
       "    </tr>\n",
       "    <tr>\n",
       "      <th>2</th>\n",
       "      <td>1</td>\n",
       "      <td>3</td>\n",
       "      <td>0</td>\n",
       "      <td>26.0</td>\n",
       "      <td>0</td>\n",
       "      <td>0</td>\n",
       "      <td>STON/O2. 3101282</td>\n",
       "      <td>0.0</td>\n",
       "    </tr>\n",
       "    <tr>\n",
       "      <th>3</th>\n",
       "      <td>1</td>\n",
       "      <td>1</td>\n",
       "      <td>0</td>\n",
       "      <td>35.0</td>\n",
       "      <td>1</td>\n",
       "      <td>0</td>\n",
       "      <td>113803</td>\n",
       "      <td>0.0</td>\n",
       "    </tr>\n",
       "    <tr>\n",
       "      <th>4</th>\n",
       "      <td>0</td>\n",
       "      <td>3</td>\n",
       "      <td>1</td>\n",
       "      <td>35.0</td>\n",
       "      <td>0</td>\n",
       "      <td>0</td>\n",
       "      <td>373450</td>\n",
       "      <td>0.0</td>\n",
       "    </tr>\n",
       "  </tbody>\n",
       "</table>\n",
       "</div>"
      ],
      "text/plain": [
       "   Survived  Pclass  Sex   Age  SibSp  Parch            Ticket  Embarked\n",
       "0         0       3    1  22.0      1      0         A/5 21171       0.0\n",
       "1         1       1    0  38.0      1      0          PC 17599       1.0\n",
       "2         1       3    0  26.0      0      0  STON/O2. 3101282       0.0\n",
       "3         1       1    0  35.0      1      0            113803       0.0\n",
       "4         0       3    1  35.0      0      0            373450       0.0"
      ]
     },
     "execution_count": 9,
     "metadata": {},
     "output_type": "execute_result"
    }
   ],
   "source": [
    "raw_data.head()"
   ]
  },
  {
   "cell_type": "code",
   "execution_count": 10,
   "id": "3caa6eeb-7687-45d5-98d0-d5d8d6a157f8",
   "metadata": {},
   "outputs": [
    {
     "data": {
      "text/plain": [
       "array([ 0.,  1.,  2., nan])"
      ]
     },
     "execution_count": 10,
     "metadata": {},
     "output_type": "execute_result"
    }
   ],
   "source": [
    "raw_data['Embarked'].unique()"
   ]
  },
  {
   "cell_type": "markdown",
   "id": "5dafab56-b1c3-40ba-a437-95243987d6da",
   "metadata": {},
   "source": [
    "### Dealing with msiing data"
   ]
  },
  {
   "cell_type": "code",
   "execution_count": 11,
   "id": "0dfde7c8-bc6a-40f8-8a91-5e613fa0f202",
   "metadata": {},
   "outputs": [],
   "source": [
    "def missing_percentage(df):\n",
    "    nan_percent = 100*(raw_data.isnull().sum()/len(raw_data))\n",
    "    nan_percent = nan_percent[nan_percent>0].sort_values()\n",
    "    return nan_percent"
   ]
  },
  {
   "cell_type": "code",
   "execution_count": 12,
   "id": "f500abd2-4903-448f-9006-e5071754de9b",
   "metadata": {},
   "outputs": [
    {
     "data": {
      "text/plain": [
       "Embarked     0.224467\n",
       "Age         19.865320\n",
       "dtype: float64"
      ]
     },
     "execution_count": 12,
     "metadata": {},
     "output_type": "execute_result"
    }
   ],
   "source": [
    "missing_percentage(raw_data)"
   ]
  },
  {
   "cell_type": "code",
   "execution_count": 13,
   "id": "db709be5-cb56-47ea-a96f-5d2c501a3cee",
   "metadata": {},
   "outputs": [
    {
     "data": {
      "text/plain": [
       "177"
      ]
     },
     "execution_count": 13,
     "metadata": {},
     "output_type": "execute_result"
    }
   ],
   "source": [
    "raw_data['Age'].isnull().sum()"
   ]
  },
  {
   "cell_type": "code",
   "execution_count": 14,
   "id": "d7c19d11-182e-4599-b78a-87e3f9e5f4d5",
   "metadata": {},
   "outputs": [
    {
     "data": {
      "text/plain": [
       "count    714.000000\n",
       "mean      29.699118\n",
       "std       14.526497\n",
       "min        0.420000\n",
       "25%       20.125000\n",
       "50%       28.000000\n",
       "75%       38.000000\n",
       "max       80.000000\n",
       "Name: Age, dtype: float64"
      ]
     },
     "execution_count": 14,
     "metadata": {},
     "output_type": "execute_result"
    }
   ],
   "source": [
    "raw_data['Age'].describe()"
   ]
  },
  {
   "cell_type": "code",
   "execution_count": 15,
   "id": "3207443d-1c06-4023-8ed4-47109a31c169",
   "metadata": {},
   "outputs": [
    {
     "data": {
      "text/plain": [
       "29.69911764705882"
      ]
     },
     "execution_count": 15,
     "metadata": {},
     "output_type": "execute_result"
    }
   ],
   "source": [
    "raw_data['Age'].mean()"
   ]
  },
  {
   "cell_type": "code",
   "execution_count": 16,
   "id": "3a274ac1-8a10-4ff5-9695-cec737f19e26",
   "metadata": {},
   "outputs": [],
   "source": [
    "import math\n",
    "female_mean, male_mean = raw_data.groupby('Sex')['Age'].mean()\n",
    "def fill_age (age, sex):\n",
    "    if math.isnan(age):\n",
    "        if sex == 'male':\n",
    "            return male_mean\n",
    "        else:\n",
    "            return female_mean\n",
    "    else:\n",
    "        return age"
   ]
  },
  {
   "cell_type": "code",
   "execution_count": 17,
   "id": "7b0c4649-05f9-4b14-ba50-0a5efbd28d18",
   "metadata": {},
   "outputs": [],
   "source": [
    "raw_data['Age'] = raw_data.apply(lambda row: fill_age(row['Age'], row['Sex']), axis=1)"
   ]
  },
  {
   "cell_type": "code",
   "execution_count": 18,
   "id": "2a88cf9b-8d1b-40c9-98e9-60eb44b0aa3d",
   "metadata": {},
   "outputs": [
    {
     "data": {
      "text/plain": [
       "0"
      ]
     },
     "execution_count": 18,
     "metadata": {},
     "output_type": "execute_result"
    }
   ],
   "source": [
    "raw_data['Age'].isnull().sum()"
   ]
  },
  {
   "cell_type": "code",
   "execution_count": 19,
   "id": "ee63c7db-7b5c-46f9-8280-ced2ca37352b",
   "metadata": {},
   "outputs": [
    {
     "data": {
      "text/plain": [
       "2"
      ]
     },
     "execution_count": 19,
     "metadata": {},
     "output_type": "execute_result"
    }
   ],
   "source": [
    "raw_data['Embarked'].isnull().sum()"
   ]
  },
  {
   "cell_type": "code",
   "execution_count": 20,
   "id": "ef7bf60f-8587-4381-a54b-de04b65c8feb",
   "metadata": {},
   "outputs": [
    {
     "data": {
      "text/html": [
       "<div>\n",
       "<style scoped>\n",
       "    .dataframe tbody tr th:only-of-type {\n",
       "        vertical-align: middle;\n",
       "    }\n",
       "\n",
       "    .dataframe tbody tr th {\n",
       "        vertical-align: top;\n",
       "    }\n",
       "\n",
       "    .dataframe thead th {\n",
       "        text-align: right;\n",
       "    }\n",
       "</style>\n",
       "<table border=\"1\" class=\"dataframe\">\n",
       "  <thead>\n",
       "    <tr style=\"text-align: right;\">\n",
       "      <th></th>\n",
       "      <th>Survived</th>\n",
       "      <th>Pclass</th>\n",
       "      <th>Sex</th>\n",
       "      <th>Age</th>\n",
       "      <th>SibSp</th>\n",
       "      <th>Parch</th>\n",
       "      <th>Ticket</th>\n",
       "      <th>Embarked</th>\n",
       "    </tr>\n",
       "  </thead>\n",
       "  <tbody>\n",
       "    <tr>\n",
       "      <th>0</th>\n",
       "      <td>0</td>\n",
       "      <td>3</td>\n",
       "      <td>1</td>\n",
       "      <td>22.000000</td>\n",
       "      <td>1</td>\n",
       "      <td>0</td>\n",
       "      <td>A/5 21171</td>\n",
       "      <td>0.0</td>\n",
       "    </tr>\n",
       "    <tr>\n",
       "      <th>1</th>\n",
       "      <td>1</td>\n",
       "      <td>1</td>\n",
       "      <td>0</td>\n",
       "      <td>38.000000</td>\n",
       "      <td>1</td>\n",
       "      <td>0</td>\n",
       "      <td>PC 17599</td>\n",
       "      <td>1.0</td>\n",
       "    </tr>\n",
       "    <tr>\n",
       "      <th>2</th>\n",
       "      <td>1</td>\n",
       "      <td>3</td>\n",
       "      <td>0</td>\n",
       "      <td>26.000000</td>\n",
       "      <td>0</td>\n",
       "      <td>0</td>\n",
       "      <td>STON/O2. 3101282</td>\n",
       "      <td>0.0</td>\n",
       "    </tr>\n",
       "    <tr>\n",
       "      <th>3</th>\n",
       "      <td>1</td>\n",
       "      <td>1</td>\n",
       "      <td>0</td>\n",
       "      <td>35.000000</td>\n",
       "      <td>1</td>\n",
       "      <td>0</td>\n",
       "      <td>113803</td>\n",
       "      <td>0.0</td>\n",
       "    </tr>\n",
       "    <tr>\n",
       "      <th>4</th>\n",
       "      <td>0</td>\n",
       "      <td>3</td>\n",
       "      <td>1</td>\n",
       "      <td>35.000000</td>\n",
       "      <td>0</td>\n",
       "      <td>0</td>\n",
       "      <td>373450</td>\n",
       "      <td>0.0</td>\n",
       "    </tr>\n",
       "    <tr>\n",
       "      <th>5</th>\n",
       "      <td>0</td>\n",
       "      <td>3</td>\n",
       "      <td>1</td>\n",
       "      <td>27.915709</td>\n",
       "      <td>0</td>\n",
       "      <td>0</td>\n",
       "      <td>330877</td>\n",
       "      <td>2.0</td>\n",
       "    </tr>\n",
       "    <tr>\n",
       "      <th>6</th>\n",
       "      <td>0</td>\n",
       "      <td>1</td>\n",
       "      <td>1</td>\n",
       "      <td>54.000000</td>\n",
       "      <td>0</td>\n",
       "      <td>0</td>\n",
       "      <td>17463</td>\n",
       "      <td>0.0</td>\n",
       "    </tr>\n",
       "    <tr>\n",
       "      <th>7</th>\n",
       "      <td>0</td>\n",
       "      <td>3</td>\n",
       "      <td>1</td>\n",
       "      <td>2.000000</td>\n",
       "      <td>3</td>\n",
       "      <td>1</td>\n",
       "      <td>349909</td>\n",
       "      <td>0.0</td>\n",
       "    </tr>\n",
       "    <tr>\n",
       "      <th>8</th>\n",
       "      <td>1</td>\n",
       "      <td>3</td>\n",
       "      <td>0</td>\n",
       "      <td>27.000000</td>\n",
       "      <td>0</td>\n",
       "      <td>2</td>\n",
       "      <td>347742</td>\n",
       "      <td>0.0</td>\n",
       "    </tr>\n",
       "    <tr>\n",
       "      <th>9</th>\n",
       "      <td>1</td>\n",
       "      <td>2</td>\n",
       "      <td>0</td>\n",
       "      <td>14.000000</td>\n",
       "      <td>1</td>\n",
       "      <td>0</td>\n",
       "      <td>237736</td>\n",
       "      <td>1.0</td>\n",
       "    </tr>\n",
       "  </tbody>\n",
       "</table>\n",
       "</div>"
      ],
      "text/plain": [
       "   Survived  Pclass  Sex        Age  SibSp  Parch            Ticket  Embarked\n",
       "0         0       3    1  22.000000      1      0         A/5 21171       0.0\n",
       "1         1       1    0  38.000000      1      0          PC 17599       1.0\n",
       "2         1       3    0  26.000000      0      0  STON/O2. 3101282       0.0\n",
       "3         1       1    0  35.000000      1      0            113803       0.0\n",
       "4         0       3    1  35.000000      0      0            373450       0.0\n",
       "5         0       3    1  27.915709      0      0            330877       2.0\n",
       "6         0       1    1  54.000000      0      0             17463       0.0\n",
       "7         0       3    1   2.000000      3      1            349909       0.0\n",
       "8         1       3    0  27.000000      0      2            347742       0.0\n",
       "9         1       2    0  14.000000      1      0            237736       1.0"
      ]
     },
     "execution_count": 20,
     "metadata": {},
     "output_type": "execute_result"
    }
   ],
   "source": [
    "raw_data = raw_data.dropna()\n",
    "raw_data.head(10)"
   ]
  },
  {
   "cell_type": "code",
   "execution_count": 21,
   "id": "1d0457cf-9b85-4467-bd28-572a1a5a553b",
   "metadata": {},
   "outputs": [
    {
     "data": {
      "text/plain": [
       "<seaborn.axisgrid.PairGrid at 0x7f9ad362a6a0>"
      ]
     },
     "execution_count": 21,
     "metadata": {},
     "output_type": "execute_result"
    },
    {
     "data": {
      "image/png": "[encoded data removed]",
      "text/plain": [
       "<Figure size 1260x1260 with 56 Axes>"
      ]
     },
     "metadata": {},
     "output_type": "display_data"
    }
   ],
   "source": [
    "sns.pairplot(raw_data)"
   ]
  },
  {
   "cell_type": "code",
   "execution_count": 22,
   "id": "55baee57-623f-4674-99cc-0ae54eff9dfd",
   "metadata": {},
   "outputs": [],
   "source": [
    "X = raw_data.drop(columns=['Survived', 'Ticket'])\n",
    "y = raw_data['Survived']"
   ]
  },
  {
   "cell_type": "code",
   "execution_count": 23,
   "id": "b31893b2-46fc-4e00-819d-04b8019263ca",
   "metadata": {},
   "outputs": [],
   "source": [
    "from sklearn.model_selection import train_test_split\n",
    "\n",
    "X_train, X_test, y_train, y_test = train_test_split(X,y, train_size = 0.8)"
   ]
  },
  {
   "cell_type": "code",
   "execution_count": 24,
   "id": "fa0f0d15-551a-4761-ace5-a2f1eb9a7c8c",
   "metadata": {},
   "outputs": [],
   "source": [
    "scaler = StandardScaler()"
   ]
  },
  {
   "cell_type": "code",
   "execution_count": 25,
   "id": "05e96319-ef13-481b-9d3c-e9a2d1d335cd",
   "metadata": {},
   "outputs": [
    {
     "data": {
      "text/plain": [
       "StandardScaler()"
      ]
     },
     "execution_count": 25,
     "metadata": {},
     "output_type": "execute_result"
    }
   ],
   "source": [
    "scaler.fit(X_train)"
   ]
  },
  {
   "cell_type": "code",
   "execution_count": 26,
   "id": "3965f49d-a031-4d0f-9318-0583ee969c6e",
   "metadata": {},
   "outputs": [],
   "source": [
    "X_train = scaler.transform(X_train)\n",
    "X_test = scaler.transform(X_test)"
   ]
  },
  {
   "cell_type": "code",
   "execution_count": 27,
   "id": "f8615324-2c93-4d50-bd42-1ec86173fd14",
   "metadata": {},
   "outputs": [],
   "source": [
    "model = LogisticRegression()"
   ]
  },
  {
   "cell_type": "code",
   "execution_count": 28,
   "id": "c004a745-78c4-4ade-807e-dff48357b026",
   "metadata": {},
   "outputs": [
    {
     "data": {
      "text/plain": [
       "LogisticRegression()"
      ]
     },
     "execution_count": 28,
     "metadata": {},
     "output_type": "execute_result"
    }
   ],
   "source": [
    "model.fit(X_train,y_train)"
   ]
  },
  {
   "cell_type": "code",
   "execution_count": 29,
   "id": "0e981cbb-699d-4125-9d15-223c4beb574a",
   "metadata": {},
   "outputs": [
    {
     "data": {
      "text/plain": [
       "array([0, 1, 0, 0, 0, 1, 1, 1, 0, 0, 1, 1, 1, 1, 0, 0, 0, 0, 0, 1, 0, 1,\n",
       "       1, 0, 0, 0, 0, 1, 1, 0, 1, 1, 0, 0, 0, 1, 1, 0, 0, 1, 1, 0, 0, 0,\n",
       "       1, 0, 0, 1, 1, 0, 0, 1, 0, 0, 0, 1, 1, 0, 0, 0, 0, 0, 0, 1, 1, 0,\n",
       "       0, 1, 0, 0, 1, 0, 0, 0, 0, 0, 0, 0, 1, 1, 1, 0, 1, 1, 1, 0, 1, 0,\n",
       "       0, 0, 0, 0, 0, 0, 0, 0, 0, 0, 1, 0, 0, 0, 1, 0, 0, 0, 0, 1, 1, 1,\n",
       "       0, 0, 1, 0, 1, 0, 0, 1, 0, 0, 1, 1, 1, 0, 1, 0, 0, 1, 0, 1, 0, 1,\n",
       "       0, 1, 0, 0, 0, 1, 1, 1, 0, 0, 0, 0, 1, 1, 0, 1, 0, 1, 0, 1, 0, 0,\n",
       "       1, 0, 1, 1, 0, 0, 0, 0, 1, 1, 0, 0, 0, 1, 0, 1, 1, 1, 1, 0, 0, 0,\n",
       "       0, 0])"
      ]
     },
     "execution_count": 29,
     "metadata": {},
     "output_type": "execute_result"
    }
   ],
   "source": [
    "y_pred = model.predict(X_test)\n",
    "y_pred"
   ]
  },
  {
   "cell_type": "code",
   "execution_count": 30,
   "id": "ed83cd8a-311d-430a-a534-d26274d5848c",
   "metadata": {},
   "outputs": [
    {
     "data": {
      "text/plain": [
       "0.8045007032348804"
      ]
     },
     "execution_count": 30,
     "metadata": {},
     "output_type": "execute_result"
    }
   ],
   "source": [
    "model.score(X_train,y_train)"
   ]
  },
  {
   "cell_type": "code",
   "execution_count": 31,
   "id": "86b3ce2e-0056-45aa-8776-66198c0715d0",
   "metadata": {},
   "outputs": [],
   "source": [
    "from sklearn.metrics import accuracy_score, confusion_matrix, classification_report, plot_confusion_matrix"
   ]
  },
  {
   "cell_type": "code",
   "execution_count": 32,
   "id": "3d63da27-715b-4a85-beb2-70db1bd336ab",
   "metadata": {},
   "outputs": [
    {
     "data": {
      "text/plain": [
       "array([[85, 21],\n",
       "       [23, 49]])"
      ]
     },
     "execution_count": 32,
     "metadata": {},
     "output_type": "execute_result"
    }
   ],
   "source": [
    "confusion_matrix(y_test,y_pred)"
   ]
  },
  {
   "cell_type": "code",
   "execution_count": 33,
   "id": "3c945b3c-f01d-4b54-b619-602cb1533bf7",
   "metadata": {},
   "outputs": [
    {
     "data": {
      "text/plain": [
       "0.7528089887640449"
      ]
     },
     "execution_count": 33,
     "metadata": {},
     "output_type": "execute_result"
    }
   ],
   "source": [
    "accuracy_score(y_test, y_pred)"
   ]
  },
  {
   "cell_type": "code",
   "execution_count": 34,
   "id": "5bec2775-e9bf-4ac6-af89-329f2857a14a",
   "metadata": {},
   "outputs": [
    {
     "name": "stdout",
     "output_type": "stream",
     "text": [
      "              precision    recall  f1-score   support\n",
      "\n",
      "           0       0.79      0.80      0.79       106\n",
      "           1       0.70      0.68      0.69        72\n",
      "\n",
      "    accuracy                           0.75       178\n",
      "   macro avg       0.74      0.74      0.74       178\n",
      "weighted avg       0.75      0.75      0.75       178\n",
      "\n"
     ]
    }
   ],
   "source": [
    "print(classification_report(y_test, y_pred))"
   ]
  },
  {
   "cell_type": "markdown",
   "id": "0c60db28-7a1f-4ea5-887d-dea1b4dd7783",
   "metadata": {},
   "source": [
    "### KNN Method"
   ]
  },
  {
   "cell_type": "code",
   "execution_count": 35,
   "id": "e8983e1b-8fb7-4933-b728-ec80b39d1d2f",
   "metadata": {},
   "outputs": [],
   "source": [
    "from sklearn.neighbors import KNeighborsClassifier\n",
    "test_error_rate = []\n",
    "\n",
    "for i in range(1,30):\n",
    "    knn = KNeighborsClassifier(n_neighbors=i)\n",
    "    knn.fit(X_train, y_train)\n",
    "    \n",
    "    y_pred_knn = knn.predict(X_test)\n",
    "    \n",
    "    e = 1 - accuracy_score(y_test, y_pred_knn)\n",
    "    test_error_rate.append(e)"
   ]
  },
  {
   "cell_type": "code",
   "execution_count": 36,
   "id": "1705d338-073c-4642-b81b-ed12f8097725",
   "metadata": {},
   "outputs": [
    {
     "data": {
      "text/plain": [
       "[0.2640449438202247,\n",
       " 0.2247191011235955,\n",
       " 0.2134831460674157,\n",
       " 0.202247191011236,\n",
       " 0.2134831460674157,\n",
       " 0.202247191011236,\n",
       " 0.2134831460674157,\n",
       " 0.1853932584269663,\n",
       " 0.2303370786516854,\n",
       " 0.2078651685393258,\n",
       " 0.202247191011236,\n",
       " 0.1910112359550562,\n",
       " 0.2078651685393258,\n",
       " 0.202247191011236,\n",
       " 0.2078651685393258,\n",
       " 0.1910112359550562,\n",
       " 0.2078651685393258,\n",
       " 0.202247191011236,\n",
       " 0.2078651685393258,\n",
       " 0.1966292134831461,\n",
       " 0.202247191011236,\n",
       " 0.1910112359550562,\n",
       " 0.2134831460674157,\n",
       " 0.1966292134831461,\n",
       " 0.2191011235955056,\n",
       " 0.202247191011236,\n",
       " 0.2134831460674157,\n",
       " 0.202247191011236,\n",
       " 0.2191011235955056]"
      ]
     },
     "execution_count": 36,
     "metadata": {},
     "output_type": "execute_result"
    }
   ],
   "source": [
    "test_error_rate"
   ]
  },
  {
   "cell_type": "code",
   "execution_count": 37,
   "id": "b949f0e1-3c1b-4a3b-9b5c-3baf3d075642",
   "metadata": {},
   "outputs": [
    {
     "data": {
      "image/png": "[encoded data removed]",
      "text/plain": [
       "<Figure size 720x432 with 1 Axes>"
      ]
     },
     "metadata": {},
     "output_type": "display_data"
    }
   ],
   "source": [
    "plt.figure(figsize=(10,6))\n",
    "plt.plot(range(1,30), test_error_rate, label='Test Error')\n",
    "plt.legend()\n",
    "plt.ylabel('Error Rate')\n",
    "plt.xlabel('K Value')\n",
    "plt.show()"
   ]
  },
  {
   "cell_type": "code",
   "execution_count": 38,
   "id": "8a723a81-9b1e-450e-b298-0ce1d6ec1457",
   "metadata": {},
   "outputs": [],
   "source": [
    "knn_model_7 = KNeighborsClassifier(n_neighbors=7)\n",
    "knn_model_7.fit(X_train,y_train)\n",
    "y_knn_pred_7 = knn_model_7.predict(X_test)"
   ]
  },
  {
   "cell_type": "code",
   "execution_count": 39,
   "id": "ba86931e-3e57-47f0-bf1b-09322c94f847",
   "metadata": {},
   "outputs": [],
   "source": [
    "knn_model_15 = KNeighborsClassifier(n_neighbors=15)\n",
    "knn_model_15.fit(X_train,y_train)\n",
    "y_knn_pred_15 = knn_model_15.predict(X_test)"
   ]
  },
  {
   "cell_type": "code",
   "execution_count": 40,
   "id": "fa71851e-b24e-4963-b579-2e13df1c0baa",
   "metadata": {},
   "outputs": [
    {
     "name": "stdout",
     "output_type": "stream",
     "text": [
      "              precision    recall  f1-score   support\n",
      "\n",
      "           0       0.79      0.88      0.83       106\n",
      "           1       0.78      0.65      0.71        72\n",
      "\n",
      "    accuracy                           0.79       178\n",
      "   macro avg       0.79      0.77      0.77       178\n",
      "weighted avg       0.79      0.79      0.78       178\n",
      "\n"
     ]
    }
   ],
   "source": [
    "print(classification_report(y_test, y_knn_pred_7))"
   ]
  },
  {
   "cell_type": "code",
   "execution_count": 41,
   "id": "e4b43360-deea-4add-9667-8c12daf36de7",
   "metadata": {},
   "outputs": [
    {
     "name": "stdout",
     "output_type": "stream",
     "text": [
      "              precision    recall  f1-score   support\n",
      "\n",
      "           0       0.79      0.88      0.83       106\n",
      "           1       0.79      0.67      0.72        72\n",
      "\n",
      "    accuracy                           0.79       178\n",
      "   macro avg       0.79      0.77      0.78       178\n",
      "weighted avg       0.79      0.79      0.79       178\n",
      "\n"
     ]
    }
   ],
   "source": [
    "print(classification_report(y_test,y_knn_pred_15))"
   ]
  },
  {
   "cell_type": "markdown",
   "id": "80f8b34f-76f8-480c-9727-51016701752e",
   "metadata": {},
   "source": [
    "### Testing The Model"
   ]
  },
  {
   "cell_type": "code",
   "execution_count": 42,
   "id": "651a8509-f3f6-4899-bc39-bace6221843b",
   "metadata": {},
   "outputs": [
    {
     "data": {
      "text/plain": [
       "0.7528089887640449"
      ]
     },
     "execution_count": 42,
     "metadata": {},
     "output_type": "execute_result"
    }
   ],
   "source": [
    "model.score(X_test, y_test)"
   ]
  },
  {
   "cell_type": "code",
   "execution_count": 43,
   "id": "0f756d4a-18a3-433a-b90f-e8d7f043fe8b",
   "metadata": {},
   "outputs": [
    {
     "data": {
      "text/plain": [
       "array([[0.50776745, 0.49223255],\n",
       "       [0.44538866, 0.55461134],\n",
       "       [0.75502804, 0.24497196],\n",
       "       [0.868196  , 0.131804  ],\n",
       "       [0.94424406, 0.05575594],\n",
       "       [0.48577393, 0.51422607],\n",
       "       [0.36504193, 0.63495807],\n",
       "       [0.17300119, 0.82699881],\n",
       "       [0.73143574, 0.26856426],\n",
       "       [0.83396963, 0.16603037],\n",
       "       [0.03150037, 0.96849963],\n",
       "       [0.08417762, 0.91582238],\n",
       "       [0.27834431, 0.72165569],\n",
       "       [0.17629549, 0.82370451],\n",
       "       [0.89198131, 0.10801869],\n",
       "       [0.95059791, 0.04940209],\n",
       "       [0.61812579, 0.38187421],\n",
       "       [0.90488335, 0.09511665],\n",
       "       [0.90488335, 0.09511665],\n",
       "       [0.20755886, 0.79244114],\n",
       "       [0.71493163, 0.28506837],\n",
       "       [0.33486278, 0.66513722],\n",
       "       [0.06305918, 0.93694082],\n",
       "       [0.84828544, 0.15171456],\n",
       "       [0.75580518, 0.24419482],\n",
       "       [0.61355262, 0.38644738],\n",
       "       [0.75942012, 0.24057988],\n",
       "       [0.4385084 , 0.5614916 ],\n",
       "       [0.16718153, 0.83281847],\n",
       "       [0.66050519, 0.33949481],\n",
       "       [0.1377065 , 0.8622935 ],\n",
       "       [0.03187765, 0.96812235],\n",
       "       [0.83338641, 0.16661359],\n",
       "       [0.88570348, 0.11429652],\n",
       "       [0.89464001, 0.10535999],\n",
       "       [0.31294947, 0.68705053],\n",
       "       [0.46143342, 0.53856658],\n",
       "       [0.88215522, 0.11784478],\n",
       "       [0.75748574, 0.24251426],\n",
       "       [0.15848439, 0.84151561],\n",
       "       [0.43750315, 0.56249685],\n",
       "       [0.5299078 , 0.4700922 ],\n",
       "       [0.9243911 , 0.0756089 ],\n",
       "       [0.89005028, 0.10994972],\n",
       "       [0.37614025, 0.62385975],\n",
       "       [0.79505281, 0.20494719],\n",
       "       [0.82676147, 0.17323853],\n",
       "       [0.1051062 , 0.8948938 ],\n",
       "       [0.27862573, 0.72137427],\n",
       "       [0.87284289, 0.12715711],\n",
       "       [0.868196  , 0.131804  ],\n",
       "       [0.34013915, 0.65986085],\n",
       "       [0.8788871 , 0.1211129 ],\n",
       "       [0.77070187, 0.22929813],\n",
       "       [0.5196258 , 0.4803742 ],\n",
       "       [0.11500318, 0.88499682],\n",
       "       [0.27834431, 0.72165569],\n",
       "       [0.89046123, 0.10953877],\n",
       "       [0.88570348, 0.11429652],\n",
       "       [0.8773491 , 0.1226509 ],\n",
       "       [0.94235264, 0.05764736],\n",
       "       [0.90846122, 0.09153878],\n",
       "       [0.69416369, 0.30583631],\n",
       "       [0.05302165, 0.94697835],\n",
       "       [0.17762477, 0.82237523],\n",
       "       [0.80443158, 0.19556842],\n",
       "       [0.91051916, 0.08948084],\n",
       "       [0.09352872, 0.90647128],\n",
       "       [0.92149169, 0.07850831],\n",
       "       [0.8773491 , 0.1226509 ],\n",
       "       [0.09247339, 0.90752661],\n",
       "       [0.90518205, 0.09481795],\n",
       "       [0.8773491 , 0.1226509 ],\n",
       "       [0.84332179, 0.15667821],\n",
       "       [0.87295799, 0.12704201],\n",
       "       [0.64473176, 0.35526824],\n",
       "       [0.67205865, 0.32794135],\n",
       "       [0.92995658, 0.07004342],\n",
       "       [0.08742091, 0.91257909],\n",
       "       [0.44681537, 0.55318463],\n",
       "       [0.31294947, 0.68705053],\n",
       "       [0.88570348, 0.11429652],\n",
       "       [0.44681537, 0.55318463],\n",
       "       [0.23840434, 0.76159566],\n",
       "       [0.1817366 , 0.8182634 ],\n",
       "       [0.8632406 , 0.1367594 ],\n",
       "       [0.12323253, 0.87676747],\n",
       "       [0.7972168 , 0.2027832 ],\n",
       "       [0.63523243, 0.36476757],\n",
       "       [0.66290797, 0.33709203],\n",
       "       [0.69392598, 0.30607402],\n",
       "       [0.77735879, 0.22264121],\n",
       "       [0.57069732, 0.42930268],\n",
       "       [0.75502804, 0.24497196],\n",
       "       [0.93393688, 0.06606312],\n",
       "       [0.81083674, 0.18916326],\n",
       "       [0.76849996, 0.23150004],\n",
       "       [0.90488335, 0.09511665],\n",
       "       [0.45812174, 0.54187826],\n",
       "       [0.88570348, 0.11429652],\n",
       "       [0.96283636, 0.03716364],\n",
       "       [0.9610026 , 0.0389974 ],\n",
       "       [0.37345169, 0.62654831],\n",
       "       [0.80668248, 0.19331752],\n",
       "       [0.90866214, 0.09133786],\n",
       "       [0.93514113, 0.06485887],\n",
       "       [0.8632406 , 0.1367594 ],\n",
       "       [0.31294947, 0.68705053],\n",
       "       [0.34467491, 0.65532509],\n",
       "       [0.18407998, 0.81592002],\n",
       "       [0.60561009, 0.39438991],\n",
       "       [0.868196  , 0.131804  ],\n",
       "       [0.49789239, 0.50210761],\n",
       "       [0.83224303, 0.16775697],\n",
       "       [0.25118177, 0.74881823],\n",
       "       [0.89402073, 0.10597927],\n",
       "       [0.93884619, 0.06115381],\n",
       "       [0.03690291, 0.96309709],\n",
       "       [0.94117697, 0.05882303],\n",
       "       [0.88171725, 0.11828275],\n",
       "       [0.36761607, 0.63238393],\n",
       "       [0.18432927, 0.81567073],\n",
       "       [0.31294947, 0.68705053],\n",
       "       [0.95229487, 0.04770513],\n",
       "       [0.23208101, 0.76791899],\n",
       "       [0.9152793 , 0.0847207 ],\n",
       "       [0.93759744, 0.06240256],\n",
       "       [0.17701119, 0.82298881],\n",
       "       [0.80586345, 0.19413655],\n",
       "       [0.36842438, 0.63157562],\n",
       "       [0.75438466, 0.24561534],\n",
       "       [0.31810932, 0.68189068],\n",
       "       [0.5946414 , 0.4053586 ],\n",
       "       [0.09963016, 0.90036984],\n",
       "       [0.88981338, 0.11018662],\n",
       "       [0.89786425, 0.10213575],\n",
       "       [0.78106533, 0.21893467],\n",
       "       [0.11543197, 0.88456803],\n",
       "       [0.09963016, 0.90036984],\n",
       "       [0.33442807, 0.66557193],\n",
       "       [0.89402073, 0.10597927],\n",
       "       [0.72325964, 0.27674036],\n",
       "       [0.90488335, 0.09511665],\n",
       "       [0.8632406 , 0.1367594 ],\n",
       "       [0.44681537, 0.55318463],\n",
       "       [0.06305918, 0.93694082],\n",
       "       [0.56031209, 0.43968791],\n",
       "       [0.39235735, 0.60764265],\n",
       "       [0.8711391 , 0.1288609 ],\n",
       "       [0.49789239, 0.50210761],\n",
       "       [0.92002192, 0.07997808],\n",
       "       [0.04030449, 0.95969551],\n",
       "       [0.90488335, 0.09511665],\n",
       "       [0.96636915, 0.03363085],\n",
       "       [0.18464142, 0.81535858],\n",
       "       [0.8773491 , 0.1226509 ],\n",
       "       [0.49409943, 0.50590057],\n",
       "       [0.27834431, 0.72165569],\n",
       "       [0.8632406 , 0.1367594 ],\n",
       "       [0.71998498, 0.28001502],\n",
       "       [0.88171725, 0.11828275],\n",
       "       [0.68534103, 0.31465897],\n",
       "       [0.11073498, 0.88926502],\n",
       "       [0.41532985, 0.58467015],\n",
       "       [0.90488335, 0.09511665],\n",
       "       [0.84573455, 0.15426545],\n",
       "       [0.70732623, 0.29267377],\n",
       "       [0.31208883, 0.68791117],\n",
       "       [0.90488335, 0.09511665],\n",
       "       [0.11097528, 0.88902472],\n",
       "       [0.1034751 , 0.8965249 ],\n",
       "       [0.06606799, 0.93393201],\n",
       "       [0.20085905, 0.79914095],\n",
       "       [0.8632406 , 0.1367594 ],\n",
       "       [0.90518205, 0.09481795],\n",
       "       [0.88595006, 0.11404994],\n",
       "       [0.84590531, 0.15409469],\n",
       "       [0.94862528, 0.05137472]])"
      ]
     },
     "execution_count": 43,
     "metadata": {},
     "output_type": "execute_result"
    }
   ],
   "source": [
    "predicted_proba = model.predict_proba(X_test)\n",
    "predicted_proba"
   ]
  },
  {
   "cell_type": "code",
   "execution_count": 44,
   "id": "d85e5453-1157-4d2f-a4fc-205035904752",
   "metadata": {},
   "outputs": [],
   "source": [
    "import pickle\n",
    "\n",
    "with open('model','wb')as file:\n",
    "    pickle.dump(model, file)\n",
    "    \n",
    "with open('scaler', 'wb') as file:\n",
    "    pickle.dump(scaler, file)"
   ]
  },
  {
   "cell_type": "code",
   "execution_count": null,
   "id": "2b5af32d-ce5f-48ab-b5c0-078c7fc870cb",
   "metadata": {},
   "outputs": [],
   "source": []
  }
 ],
 "metadata": {
  "kernelspec": {
   "display_name": "Python 3",
   "language": "python",
   "name": "python3"
  },
  "language_info": {
   "codemirror_mode": {
    "name": "ipython",
    "version": 3
   },
   "file_extension": ".py",
   "mimetype": "text/x-python",
   "name": "python",
   "nbconvert_exporter": "python",
   "pygments_lexer": "ipython3",
   "version": "3.8.8"
  }
 },
 "nbformat": 4,
 "nbformat_minor": 5
}
